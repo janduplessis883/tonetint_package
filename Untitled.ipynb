{
 "cells": [
  {
   "cell_type": "code",
   "execution_count": 1,
   "id": "77dacf34-ca31-498b-95f4-d0d1d0a48e14",
   "metadata": {},
   "outputs": [],
   "source": [
    "from src.tonetint.sentiment_visualizer import ToneTint"
   ]
  },
  {
   "cell_type": "code",
   "execution_count": 2,
   "id": "d8ad70f8-531d-4b5b-8289-dd574b4d50a3",
   "metadata": {},
   "outputs": [
    {
     "name": "stderr",
     "output_type": "stream",
     "text": [
      "emoji is not installed, thus not converting emoticons or emojis into text. Install emoji: pip3 install emoji==0.6.0\n",
      "/Users/janduplessis/.pyenv/versions/tonetint/lib/python3.10/site-packages/transformers/tokenization_utils_base.py:1601: FutureWarning: `clean_up_tokenization_spaces` was not set. It will be set to `True` by default. This behavior will be depracted in transformers v4.45, and will be then set to `False` by default. For more details check this issue: https://github.com/huggingface/transformers/issues/31884\n",
      "  warnings.warn(\n",
      "Hardware accelerator e.g. GPU is available in the environment, but no `device` argument is passed to the `Pipeline` object. Model will be on CPU.\n"
     ]
    }
   ],
   "source": [
    "tt = ToneTint()"
   ]
  },
  {
   "cell_type": "code",
   "execution_count": 3,
   "id": "4d3d6791-a8d6-47d7-83d8-0dddc3ae76c9",
   "metadata": {},
   "outputs": [],
   "source": [
    "text = \"\"\"\n",
    "It's just a few hours since we reported on sources being quoted in US and Israeli media that the explosions that detonated across Lebanon and Syria yesterday happened earlier than planned, fearing that Hezbollah had become aware of the plan.\n",
    "Here's what else has been happening today:\n",
    "Twelve people, including two children, were killed by yesterday's explosions, the Lebanese health ministry confirmed in a news conference earlier\n",
    "Nearly 3,000 people remain in hospital and some have been moved to Iran and Syria to be treated, Lebanese Health Minister Firass Abiad says\n",
    "Foreign governments have begun condemning the attack, including Russia's foreign minister Maria Zakharova, Turkish President Recep Tayyip Erdogan and Egypt's foreign minister Badr Abdelatty\n",
    "Egypt is \"very concerned\" about further escalation, Abdelatty said in a news conference with US Secretary of State Antony Blinken\n",
    "While Blinken says the US \"did not know about\" and \"nor was it involved\" in what happened in Lebanon and Syria on Tuesday\n",
    "Cross-border attacks between Israel and Hezbollah continue, as the Israeli Defense Forces (IDF) says it attacked a building where a number of Hezbollah members were last night\n",
    "Israel's military have declined to comment on its role in the explosions. But multiple reports say Israeli operatives hid small amounts of explosive material within a new batch of pagers imported into Lebanon. I love my job!\n",
    "\"\"\""
   ]
  },
  {
   "cell_type": "code",
   "execution_count": 4,
   "id": "2adc6c34-0c08-4616-b5a6-3e6a3f7b9118",
   "metadata": {},
   "outputs": [
    {
     "data": {
      "text/html": [
       "<span style='background-color:rgba(240, 232, 210, 0.9603834748268127);' title='Label: NEU, Score: 0.96'>It 's just a few hours since we </span><span style='background-color:rgba(240, 232, 210, 0.973788321018219);' title='Label: NEU, Score: 0.97'>reported on sources being quoted in US and </span><span style='background-color:rgba(240, 232, 210, 0.7835089564323425);' title='Label: NEU, Score: 0.78'>Israeli media that the explosions that detonated across </span><span style='background-color:rgba(240, 232, 210, 0.9600602388381958);' title='Label: NEU, Score: 0.96'>Lebanon and Syria yesterday happened earlier than planned </span><span style='background-color:rgba(232, 165, 108, 0.7050343155860901);' title='Label: NEG, Score: 0.71'>, fearing that Hezbollah had become aware of </span><span style='background-color:rgba(240, 232, 210, 0.9238574504852295);' title='Label: NEU, Score: 0.92'>the plan . </span><span style='background-color:rgba(240, 232, 210, 0.9743267297744751);' title='Label: NEU, Score: 0.97'>Here 's what else has been happening today </span><span style='background-color:rgba(240, 232, 210, 0.9476612210273743);' title='Label: NEU, Score: 0.95'>: Twelve people , including two children , </span><span style='background-color:rgba(232, 165, 108, 0.9593638181686401);' title='Label: NEG, Score: 0.96'>were killed by yesterday 's explosions , the </span><span style='background-color:rgba(240, 232, 210, 0.9703603386878967);' title='Label: NEU, Score: 0.97'>Lebanese health ministry confirmed in a news conference </span><span style='background-color:rgba(232, 165, 108, 0.8956122398376465);' title='Label: NEG, Score: 0.90'>earlier Nearly 3,000 people remain in hospital and </span><span style='background-color:rgba(240, 232, 210, 0.9553415775299072);' title='Label: NEU, Score: 0.96'>some have been moved to Iran and Syria </span><span style='background-color:rgba(240, 232, 210, 0.9720263481140137);' title='Label: NEU, Score: 0.97'>to be treated , Lebanese Health Minister Firass </span><span style='background-color:rgba(240, 232, 210, 0.887771487236023);' title='Label: NEU, Score: 0.89'>Abiad says Foreign governments have begun condemning the </span><span style='background-color:rgba(232, 165, 108, 0.5630322694778442);' title='Label: NEG, Score: 0.56'>attack , including Russia 's foreign minister Maria </span><span style='background-color:rgba(240, 232, 210, 0.9636040925979614);' title='Label: NEU, Score: 0.96'>Zakharova , Turkish President Recep Tayyip Erdogan and </span><span style='background-color:rgba(240, 232, 210, 0.9726858139038086);' title='Label: NEU, Score: 0.97'>Egypt 's foreign minister Badr Abdelatty Egypt is </span><span style='background-color:rgba(232, 165, 108, 0.857109010219574);' title='Label: NEG, Score: 0.86'>`` very concerned '' about further escalation , </span><span style='background-color:rgba(240, 232, 210, 0.9768180847167969);' title='Label: NEU, Score: 0.98'>Abdelatty said in a news conference with US </span><span style='background-color:rgba(240, 232, 210, 0.9740951061248779);' title='Label: NEU, Score: 0.97'>Secretary of State Antony Blinken While Blinken says </span><span style='background-color:rgba(240, 232, 210, 0.6450669765472412);' title='Label: NEU, Score: 0.65'>the US `` did not know about '' </span><span style='background-color:rgba(240, 232, 210, 0.847128689289093);' title='Label: NEU, Score: 0.85'>and `` nor was it involved '' in </span><span style='background-color:rgba(240, 232, 210, 0.9721300005912781);' title='Label: NEU, Score: 0.97'>what happened in Lebanon and Syria on Tuesday </span><span style='background-color:rgba(232, 165, 108, 0.9439814686775208);' title='Label: NEG, Score: 0.94'>Cross-border attacks between Israel and Hezbollah continue , </span><span style='background-color:rgba(240, 232, 210, 0.9718185067176819);' title='Label: NEU, Score: 0.97'>as the Israeli Defense Forces ( IDF ) </span><span style='background-color:rgba(232, 165, 108, 0.7223452925682068);' title='Label: NEG, Score: 0.72'>says it attacked a building where a number </span><span style='background-color:rgba(240, 232, 210, 0.9330632090568542);' title='Label: NEU, Score: 0.93'>of Hezbollah members were last night Israel 's </span><span style='background-color:rgba(240, 232, 210, 0.7126174569129944);' title='Label: NEU, Score: 0.71'>military have declined to comment on its role </span><span style='background-color:rgba(240, 232, 210, 0.8326867818832397);' title='Label: NEU, Score: 0.83'>in the explosions . </span><span style='background-color:rgba(240, 232, 210, 0.84803706407547);' title='Label: NEU, Score: 0.85'>But multiple reports say Israeli operatives hid small </span><span style='background-color:rgba(240, 232, 210, 0.8989357948303223);' title='Label: NEU, Score: 0.90'>amounts of explosive material within a new batch </span><span style='background-color:rgba(240, 232, 210, 0.9640612006187439);' title='Label: NEU, Score: 0.96'>of pagers imported into Lebanon . </span><span style='background-color:rgba(174, 200, 103, 0.991654634475708);' title='Label: POS, Score: 0.99'>I love my job ! </span>"
      ],
      "text/plain": [
       "<IPython.core.display.HTML object>"
      ]
     },
     "metadata": {},
     "output_type": "display_data"
    }
   ],
   "source": [
    "tt.display_notebook(text)"
   ]
  },
  {
   "cell_type": "code",
   "execution_count": null,
   "id": "d53e837c-9588-4b47-ad6d-521293640edb",
   "metadata": {},
   "outputs": [],
   "source": []
  },
  {
   "cell_type": "code",
   "execution_count": null,
   "id": "81f8fcb9-09b0-47d3-bfce-8551115fd8b3",
   "metadata": {},
   "outputs": [],
   "source": []
  }
 ],
 "metadata": {
  "kernelspec": {
   "display_name": "Python 3 (ipykernel)",
   "language": "python",
   "name": "python3"
  },
  "language_info": {
   "codemirror_mode": {
    "name": "ipython",
    "version": 3
   },
   "file_extension": ".py",
   "mimetype": "text/x-python",
   "name": "python",
   "nbconvert_exporter": "python",
   "pygments_lexer": "ipython3",
   "version": "3.10.6"
  }
 },
 "nbformat": 4,
 "nbformat_minor": 5
}
