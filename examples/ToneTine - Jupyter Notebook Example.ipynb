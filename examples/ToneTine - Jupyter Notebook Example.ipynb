{
 "cells": [
  {
   "cell_type": "markdown",
   "id": "1212ebd0-7da0-4c13-8606-c8fde686287e",
   "metadata": {},
   "source": [
    "# **ToneTint** - Jupyter Notebook Use"
   ]
  },
  {
   "cell_type": "code",
   "execution_count": null,
   "id": "f6baf301-5a5c-47e0-af90-44fbfa3d10f9",
   "metadata": {},
   "outputs": [],
   "source": [
    "!pip install tonetint"
   ]
  },
  {
   "cell_type": "code",
   "execution_count": 5,
   "id": "00bd1f23-0c68-40cb-a772-ba3eb54fd3b6",
   "metadata": {},
   "outputs": [
    {
     "ename": "TypeError",
     "evalue": "ToneTint.__init__() got an unexpected keyword argument 'font'",
     "output_type": "error",
     "traceback": [
      "\u001b[0;31m---------------------------------------------------------------------------\u001b[0m",
      "\u001b[0;31mTypeError\u001b[0m                                 Traceback (most recent call last)",
      "Cell \u001b[0;32mIn[5], line 2\u001b[0m\n\u001b[1;32m      1\u001b[0m \u001b[38;5;28;01mfrom\u001b[39;00m \u001b[38;5;21;01mtonetint\u001b[39;00m\u001b[38;5;21;01m.\u001b[39;00m\u001b[38;5;21;01msentiment_visualizer\u001b[39;00m \u001b[38;5;28;01mimport\u001b[39;00m ToneTint\n\u001b[0;32m----> 2\u001b[0m tt \u001b[38;5;241m=\u001b[39m \u001b[43mToneTint\u001b[49m\u001b[43m(\u001b[49m\u001b[43mfont\u001b[49m\u001b[38;5;241;43m=\u001b[39;49m\u001b[38;5;124;43m'\u001b[39;49m\u001b[38;5;124;43mSerif Sans\u001b[39;49m\u001b[38;5;124;43m'\u001b[39;49m\u001b[43m,\u001b[49m\u001b[43m \u001b[49m\u001b[43mfont_size\u001b[49m\u001b[38;5;241;43m=\u001b[39;49m\u001b[38;5;124;43m'\u001b[39;49m\u001b[38;5;124;43m14px\u001b[39;49m\u001b[38;5;124;43m'\u001b[39;49m\u001b[43m)\u001b[49m\n",
      "\u001b[0;31mTypeError\u001b[0m: ToneTint.__init__() got an unexpected keyword argument 'font'"
     ]
    }
   ],
   "source": [
    "from tonetint.sentiment_visualizer import ToneTint\n",
    "tt = ToneTint(font='Serif Sans', font_size='14px')"
   ]
  },
  {
   "cell_type": "code",
   "execution_count": 2,
   "id": "5dac21df-6581-470a-9b5c-6159120e756b",
   "metadata": {},
   "outputs": [],
   "source": [
    "text = \"On a bright Sunday morning in London, the city hums with a soft, lazy energy. The streets, usually packed with hurried commuters, are now filled with leisurely strollers and families enjoying a slow brunch in trendy cafes. The air is crisp, and the scent of freshly baked croissants mingles with the rich aroma of brewing coffee. Down by the Thames, joggers pass by tourists taking in the iconic skyline, their contrasting paces a reflection of the different ways people unwind. Yet, even amidst the calm, there's a pulse of vibrancy — street performers at Covent Garden strumming upbeat tunes, and the chatter of markets, like Brick Lane, buzzing with life. As the sun starts to set, the quiet anticipation of a new week begins to settle in, tinged with a hint of nostalgia for the fleeting relaxation that Sundays bring. I hate the city in winter.\""
   ]
  },
  {
   "cell_type": "code",
   "execution_count": 3,
   "id": "261fe711-9d99-4d41-acb7-e953d94a173a",
   "metadata": {},
   "outputs": [
    {
     "data": {
      "text/html": [
       "<div style='font-family:Serif Sans; font-size:14px;'><span style='background-color:rgba(174, 200, 103, 0.7774697542190552);' title='Label: POS, Score: 0.78'>On a bright Sunday morning in London , </span><span style='background-color:rgba(240, 232, 210, 0.9105002284049988);' title='Label: NEU, Score: 0.91'>the city hums with a soft , lazy </span><span style='background-color:rgba(240, 232, 210, 0.9357413649559021);' title='Label: NEU, Score: 0.94'>energy . </span><span style='background-color:rgba(209, 106, 99, 0.5870535373687744);' title='Label: NEG, Score: 0.59'>The streets , usually packed with hurried commuters </span><span style='background-color:rgba(240, 232, 210, 0.9206598401069641);' title='Label: NEU, Score: 0.92'>, are now filled with leisurely strollers and </span><span style='background-color:rgba(174, 200, 103, 0.9544358253479004);' title='Label: POS, Score: 0.95'>families enjoying a slow brunch in trendy cafes </span><span style='background-color:rgba(240, 232, 210, 0.9186990261077881);' title='Label: NEU, Score: 0.92'>. </span><span style='background-color:rgba(174, 200, 103, 0.7297038435935974);' title='Label: POS, Score: 0.73'>The air is crisp , and the scent </span><span style='background-color:rgba(240, 232, 210, 0.5807716846466064);' title='Label: NEU, Score: 0.58'>of freshly baked croissants mingles with the rich </span><span style='background-color:rgba(240, 232, 210, 0.7072178721427917);' title='Label: NEU, Score: 0.71'>aroma of brewing coffee . </span><span style='background-color:rgba(240, 232, 210, 0.9505913853645325);' title='Label: NEU, Score: 0.95'>Down by the Thames , joggers pass by </span><span style='background-color:rgba(174, 200, 103, 0.5118997097015381);' title='Label: POS, Score: 0.51'>tourists taking in the iconic skyline , their </span><span style='background-color:rgba(240, 232, 210, 0.9486350417137146);' title='Label: NEU, Score: 0.95'>contrasting paces a reflection of the different ways </span><span style='background-color:rgba(240, 232, 210, 0.7509624361991882);' title='Label: NEU, Score: 0.75'>people unwind . </span><span style='background-color:rgba(240, 232, 210, 0.9024618864059448);' title='Label: NEU, Score: 0.90'>Yet , even amidst the calm , there </span><span style='background-color:rgba(240, 232, 210, 0.6408520340919495);' title='Label: NEU, Score: 0.64'>'s a pulse of vibrancy — street performers </span><span style='background-color:rgba(240, 232, 210, 0.627997875213623);' title='Label: NEU, Score: 0.63'>at Covent Garden strumming upbeat tunes , and </span><span style='background-color:rgba(240, 232, 210, 0.9681021571159363);' title='Label: NEU, Score: 0.97'>the chatter of markets , like Brick Lane </span><span style='background-color:rgba(174, 200, 103, 0.8908796310424805);' title='Label: POS, Score: 0.89'>, buzzing with life . </span><span style='background-color:rgba(240, 232, 210, 0.8926768898963928);' title='Label: NEU, Score: 0.89'>As the sun starts to set , the </span><span style='background-color:rgba(174, 200, 103, 0.8821035623550415);' title='Label: POS, Score: 0.88'>quiet anticipation of a new week begins to </span><span style='background-color:rgba(240, 232, 210, 0.9516518115997314);' title='Label: NEU, Score: 0.95'>settle in , tinged with a hint of </span><span style='background-color:rgba(174, 200, 103, 0.7521129250526428);' title='Label: POS, Score: 0.75'>nostalgia for the fleeting relaxation that Sundays bring </span><span style='background-color:rgba(240, 232, 210, 0.9186990261077881);' title='Label: NEU, Score: 0.92'>. </span><span style='background-color:rgba(209, 106, 99, 0.9809401631355286);' title='Label: NEG, Score: 0.98'>I hate the city in winter . </span></div>"
      ],
      "text/plain": [
       "<IPython.core.display.HTML object>"
      ]
     },
     "metadata": {},
     "output_type": "display_data"
    }
   ],
   "source": [
    "tt.display_notebook(text)"
   ]
  },
  {
   "cell_type": "code",
   "execution_count": null,
   "id": "9b13a329-c0c8-4600-92cf-9196ba48da2e",
   "metadata": {},
   "outputs": [],
   "source": []
  },
  {
   "cell_type": "code",
   "execution_count": null,
   "id": "a5ea545b-a393-4542-b29a-f02e9f9f97d7",
   "metadata": {},
   "outputs": [],
   "source": []
  },
  {
   "cell_type": "code",
   "execution_count": null,
   "id": "c714c59a-3f23-4bcd-9a3a-7089e717cd13",
   "metadata": {},
   "outputs": [],
   "source": []
  },
  {
   "cell_type": "code",
   "execution_count": null,
   "id": "bd5eea57-c935-4442-a14b-f8f37fccb0ba",
   "metadata": {},
   "outputs": [],
   "source": []
  }
 ],
 "metadata": {
  "kernelspec": {
   "display_name": "Python 3 (ipykernel)",
   "language": "python",
   "name": "python3"
  },
  "language_info": {
   "codemirror_mode": {
    "name": "ipython",
    "version": 3
   },
   "file_extension": ".py",
   "mimetype": "text/x-python",
   "name": "python",
   "nbconvert_exporter": "python",
   "pygments_lexer": "ipython3",
   "version": "3.10.6"
  }
 },
 "nbformat": 4,
 "nbformat_minor": 5
}
